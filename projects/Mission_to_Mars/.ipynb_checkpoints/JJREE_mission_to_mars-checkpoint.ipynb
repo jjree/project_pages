{
 "cells": [
  {
   "cell_type": "code",
   "execution_count": 1,
   "metadata": {},
   "outputs": [],
   "source": [
    "# Dependencies\n",
    "from splinter import Browser\n",
    "from bs4 import BeautifulSoup as bs\n",
    "import pandas as pd\n",
    "import requests\n",
    "import pymongo"
   ]
  },
  {
   "cell_type": "code",
   "execution_count": 2,
   "metadata": {},
   "outputs": [],
   "source": [
    "# Locate Chromedriver path\n",
    "#!which chromedriver"
   ]
  },
  {
   "cell_type": "code",
   "execution_count": 3,
   "metadata": {},
   "outputs": [],
   "source": [
    "# Initiate splinter Browser\n",
    "executable_path = {'executable_path': '/usr/local/bin/chromedriver'}\n",
    "browser = Browser('chrome', **executable_path, headless=False)"
   ]
  },
  {
   "cell_type": "markdown",
   "metadata": {},
   "source": [
    "----\n",
    "\n",
    "### NASA Mars News"
   ]
  },
  {
   "cell_type": "code",
   "execution_count": 4,
   "metadata": {},
   "outputs": [],
   "source": [
    "# Initiate new url and browser to visit it\n",
    "url = 'https://mars.nasa.gov/news/'\n",
    "browser.visit(url)"
   ]
  },
  {
   "cell_type": "code",
   "execution_count": 5,
   "metadata": {},
   "outputs": [],
   "source": [
    "# Extract HTML from site\n",
    "html = browser.html\n",
    "soup = bs(html, 'html.parser')"
   ]
  },
  {
   "cell_type": "code",
   "execution_count": 6,
   "metadata": {},
   "outputs": [
    {
     "name": "stdout",
     "output_type": "stream",
     "text": [
      "NASA Invites Students to Name Mars 2020 Rover\n",
      "NASA's Mars Helicopter Attached to Mars 2020 Rover \n",
      "What's Mars Solar Conjunction, and Why Does It Matter?\n",
      "Scientists Explore Outback as Testbed for Mars \n",
      "NASA-JPL Names 'Rolling Stones Rock' on Mars\n",
      "Robotic Toolkit Added to NASA's Mars 2020 Rover\n",
      "Space Samples Link NASA's Apollo 11 and Mars 2020\n",
      "Small Satellite Mission of the Year\n",
      "NASA 'Optometrists' Verify Mars 2020 Rover's 20/20 Vision\n",
      "New Finds for Mars Rover, Seven Years After Landing\n",
      "MEDLI2 Installation on Mars 2020 Aeroshell Begins\n",
      "NASA's Mars 2020 Rover Does Biceps Curls \n",
      "Fueling of NASA's Mars 2020 Rover Power System Begins\n",
      "What Does a Marsquake Look Like?\n",
      "Mars 2020 Rover: T-Minus One Year and Counting \n",
      "NASA Racks Up Two Emmy Nominations for Mission Coverage\n",
      "Want to Colonize Mars? Aerogel Could Help\n",
      "A Rover Pit Stop at JPL\n",
      "Mars 2020 Rover Gets a Super Instrument\n",
      "A Neil Armstrong for Mars: Landing the Mars 2020 Rover\n",
      "NASA's InSight Uncovers the 'Mole' \n",
      "Mars 2020 Rover's 7-Foot-Long Robotic Arm Installed\n",
      "NASA Selects Partners for Mars 2020 'Name the Rover' Contest, Seeks Judges\n",
      "Curiosity's Mars Methane Mystery Continues\n",
      "Mars 2020 Rover Gets Its Wheels\n",
      "The Mast Is Raised for NASA's Mars 2020 Rover\n",
      "NASA's Mars 2020 Will Blaze a Trail — for Humans\n",
      "Johnson-Built Device to Help Mars 2020 Rover Search for Signs of Life\n",
      "Watch NASA Build Its Next Mars Rover\n",
      "NASA's Mars Helicopter Testing Enters Final Phase\n",
      "InSight's Team Tries New Strategy to Help the 'Mole'\n",
      "Common Questions about InSight's 'Mole'\n",
      "NASA's Curiosity Mars Rover Finds a Clay Cache\n",
      "NASA to Land in Mars, Pennsylvania to Celebrate Red Planet with STEAM\n",
      "NASA's Mars 2020 Gets a Dose of Space Here on Earth\n",
      "NASA Invites Public to Submit Names to Fly Aboard Next Mars Rover\n",
      "NASA's MRO Completes 60,000 Trips Around Mars\n",
      "Video: Fly over Mount Sharp on Mars\n",
      "Why This Martian Full Moon Looks Like Candy\n",
      "For InSight, Dust Cleanings Will Yield New Science\n"
     ]
    }
   ],
   "source": [
    "# Find and print titles of stories\n",
    "title_list = []\n",
    "story_list = soup.find_all('ul', class_='item_list')\n",
    "\n",
    "for story in story_list:\n",
    "    titles = story.find_all('h3')\n",
    "    \n",
    "for title in titles:\n",
    "    print(title.text)\n",
    "    title_list.append(title.text)"
   ]
  },
  {
   "cell_type": "code",
   "execution_count": 7,
   "metadata": {},
   "outputs": [
    {
     "name": "stdout",
     "output_type": "stream",
     "text": [
      "Through Nov. 1, K-12 students in the U.S. are encouraged to enter an essay contest to name NASA's next Mars rover.\n",
      "The helicopter will be first aircraft to perform flight tests on another planet.\n",
      "NASA spacecraft at Mars are going to be on their own for a few weeks when the Sun comes between Mars and Earth, interrupting communications.\n",
      "Australia provides a great place for NASA's Mars 2020 and the ESA-Roscosmos ExoMars scientists to hone techniques in preparation for searching for signs ancient life on Mars.\n",
      "NASA's Mars InSight mission honored one of the biggest bands of all time at Pasadena concert.\n",
      "The bit carousel, which lies at the heart of the rover's Sample Caching System, is now aboard NASA's newest rover. \n",
      "While separated by half a century, NASA's Apollo 11 and Mars 2020 missions share the same historic goal: returning samples to Earth.\n",
      "The first interplanetary CubeSats were recognized by the engineering community with the 2019 Small Satellite Mission of the Year award.\n",
      "Mars 2020 rover underwent an eye exam after several cameras were installed on the rover.\n",
      "NASA's Curiosity rover is discovering odd rocks halfway into a region called the \"clay-bearing unit.\"\n",
      "Hardware installed onto NASA's Mars 2020 entry vehicle this week will help to increase the safety of future Mars landings.\n",
      "In this time-lapse video, the robotic arm on NASA's Mars 2020 rover maneuvers its 88-pound (40-kilogram) sensor-laden turret as it moves from a deployed to stowed configuration.\n",
      "NASA gives the go-ahead to fuel the Mars 2020 rover's Multi-Mission Radioisotope Thermoelectric Generator, which will power rover and help keep it warm while exploring Mars.\n",
      "InSight scientists used a special \"shake room\" to demonstrate the differences between quakes on Earth, the Moon and Mars.\n",
      "The launch period for NASA's next rover, Mars 2020, opens exactly one year from today, July 17, 2020, and extends through Aug. 5, 2020.\n",
      "JPL's coverage of the Mars InSight mission is among the efforts that will be up for an award in mid-September.\n",
      "Researchers are studying whether a wonder material used in Mars rovers could help warm parts of the Red Planet rich in water ice.\n",
      "Working like a finely honed machine, a team of engineers in this time-lapse video clip install test wheels on another finely honed machine: NASA's Mars 2020 rover.\n",
      "With its rock-zapping laser, the SuperCam will enable the science team to identify the chemical and mineral makeup of its targets on the Red Planet.\n",
      "NASA's newest rover will have an autopilot called Terrain-Relative Navigation.\n",
      "The lander's robotic arm has successfully removed a piece of hardware blocking the view of its digging device in order to help with recovery efforts.\n",
      "The main robotic arm has been installed on NASA's newest rover. When complete, the arm will enable the rover to hold and use science tools like a human geologist would.\n",
      "The contest for U.S. schoolchildren will open in fall 2019, but judges can sign up now.\n",
      "The Curiosity rover’s follow-on sampling shows last week’s methane levels have sharply decreased.\n",
      "With the mobility suspension in place, the rover not only looks more like a rover but has many of its 'big-ticket items' installed.\n",
      "Engineers at JPL take a group selfie after attaching the remote sensing mast to the Mars 2020 rover.\n",
      "The next robotic Mars mission will carry technology that will help enable astronauts to eventually explore the Red Planet.\n",
      "NASA’s Johnson Space Center (JSC) recently built a new calibration device for the rover to check SHERLOC’s function and properly tune it during the upcoming mission.\n",
      "A newly installed webcam offers the public a live, bird's-eye view of NASA's Mars 2020 rover as it takes shape at NASA's Jet Propulsion Laboratory. \n",
      "NASA's Mars Helicopter flight demonstration project has passed a number of key tests with flying colors.\n",
      "The spacecraft's robotic arm will lift the heat probe's support structure, providing a better look at the instrument that has been trying to burrow into the Martian surface.\n",
      "There's a new plan to get InSight's \"mole\" moving again. The following Q&As with two members of the team answer some of the most common questions about the burrowing device, part of a science instrument called the Heat Flow and Physical Properties Package (HP3).\n",
      "The rover recently drilled two samples, and both showed the highest levels of clay ever found during the mission.\n",
      "NASA returns to Mars, Pennsylvania Friday, May 31 to celebrate Mars exploration and share the agency’s excitement about landing astronauts on the Moon in five years.\n",
      "NASA's Mars 2020 spacecraft has completed tests that are the best Earthly approximations of what the spacecraft will endure during launch and interplanetary cruise.\n",
      "From now till Sept. 30, the public can submit names to be stenciled on chips that will fly on the Mars 2020 rover and receive a souvenir boarding pass.\n",
      "The orbiting spacecraft is also about to set a record for data relayed from the Martian surface.\n",
      "A new animation shows the region NASA's Curiosity rover is currently exploring and where its team wants to go in the future.\n",
      "For the first time, NASA's Mars Odyssey orbiter has caught the Martian moon Phobos during a full moon phase. Each color in this new image represents a temperature range detected by Odyssey's infrared camera.\n",
      "Wind can be crucial to clearing dust from spacecraft solar panels on Mars. With InSight's meteorological sensors, scientists get their first measurements of wind and dust interacting \"live\" on the Martian surface.  \n"
     ]
    }
   ],
   "source": [
    "# Find and print paragraphs of featured stories\n",
    "paras_list=[]\n",
    "paras = story.find_all('div', class_='article_teaser_body')\n",
    "for para in paras:\n",
    "    print(para.text)\n",
    "    paras_list.append(para.text)"
   ]
  },
  {
   "cell_type": "code",
   "execution_count": 8,
   "metadata": {},
   "outputs": [
    {
     "name": "stdout",
     "output_type": "stream",
     "text": [
      "[{'title': 'NASA Invites Students to Name Mars 2020 Rover', 'paragraph': \"Through Nov. 1, K-12 students in the U.S. are encouraged to enter an essay contest to name NASA's next Mars rover.\"}, {'title': \"NASA's Mars Helicopter Attached to Mars 2020 Rover \", 'paragraph': 'The helicopter will be first aircraft to perform flight tests on another planet.'}, {'title': \"What's Mars Solar Conjunction, and Why Does It Matter?\", 'paragraph': 'NASA spacecraft at Mars are going to be on their own for a few weeks when the Sun comes between Mars and Earth, interrupting communications.'}, {'title': 'Scientists Explore Outback as Testbed for Mars ', 'paragraph': \"Australia provides a great place for NASA's Mars 2020 and the ESA-Roscosmos ExoMars scientists to hone techniques in preparation for searching for signs ancient life on Mars.\"}, {'title': \"NASA-JPL Names 'Rolling Stones Rock' on Mars\", 'paragraph': \"NASA's Mars InSight mission honored one of the biggest bands of all time at Pasadena concert.\"}, {'title': \"Robotic Toolkit Added to NASA's Mars 2020 Rover\", 'paragraph': \"The bit carousel, which lies at the heart of the rover's Sample Caching System, is now aboard NASA's newest rover. \"}, {'title': \"Space Samples Link NASA's Apollo 11 and Mars 2020\", 'paragraph': \"While separated by half a century, NASA's Apollo 11 and Mars 2020 missions share the same historic goal: returning samples to Earth.\"}, {'title': 'Small Satellite Mission of the Year', 'paragraph': 'The first interplanetary CubeSats were recognized by the engineering community with the 2019 Small Satellite Mission of the Year award.'}, {'title': \"NASA 'Optometrists' Verify Mars 2020 Rover's 20/20 Vision\", 'paragraph': 'Mars 2020 rover underwent an eye exam after several cameras were installed on the rover.'}, {'title': 'New Finds for Mars Rover, Seven Years After Landing', 'paragraph': 'NASA\\'s Curiosity rover is discovering odd rocks halfway into a region called the \"clay-bearing unit.\"'}, {'title': 'MEDLI2 Installation on Mars 2020 Aeroshell Begins', 'paragraph': \"Hardware installed onto NASA's Mars 2020 entry vehicle this week will help to increase the safety of future Mars landings.\"}, {'title': \"NASA's Mars 2020 Rover Does Biceps Curls \", 'paragraph': \"In this time-lapse video, the robotic arm on NASA's Mars 2020 rover maneuvers its 88-pound (40-kilogram) sensor-laden turret as it moves from a deployed to stowed configuration.\"}, {'title': \"Fueling of NASA's Mars 2020 Rover Power System Begins\", 'paragraph': \"NASA gives the go-ahead to fuel the Mars 2020 rover's Multi-Mission Radioisotope Thermoelectric Generator, which will power rover and help keep it warm while exploring Mars.\"}, {'title': 'What Does a Marsquake Look Like?', 'paragraph': 'InSight scientists used a special \"shake room\" to demonstrate the differences between quakes on Earth, the Moon and Mars.'}, {'title': 'Mars 2020 Rover: T-Minus One Year and Counting ', 'paragraph': \"The launch period for NASA's next rover, Mars 2020, opens exactly one year from today, July 17, 2020, and extends through Aug. 5, 2020.\"}, {'title': 'NASA Racks Up Two Emmy Nominations for Mission Coverage', 'paragraph': \"JPL's coverage of the Mars InSight mission is among the efforts that will be up for an award in mid-September.\"}, {'title': 'Want to Colonize Mars? Aerogel Could Help', 'paragraph': 'Researchers are studying whether a wonder material used in Mars rovers could help warm parts of the Red Planet rich in water ice.'}, {'title': 'A Rover Pit Stop at JPL', 'paragraph': \"Working like a finely honed machine, a team of engineers in this time-lapse video clip install test wheels on another finely honed machine: NASA's Mars 2020 rover.\"}, {'title': 'Mars 2020 Rover Gets a Super Instrument', 'paragraph': 'With its rock-zapping laser, the SuperCam will enable the science team to identify the chemical and mineral makeup of its targets on the Red Planet.'}, {'title': 'A Neil Armstrong for Mars: Landing the Mars 2020 Rover', 'paragraph': \"NASA's newest rover will have an autopilot called Terrain-Relative Navigation.\"}, {'title': \"NASA's InSight Uncovers the 'Mole' \", 'paragraph': \"The lander's robotic arm has successfully removed a piece of hardware blocking the view of its digging device in order to help with recovery efforts.\"}, {'title': \"Mars 2020 Rover's 7-Foot-Long Robotic Arm Installed\", 'paragraph': \"The main robotic arm has been installed on NASA's newest rover. When complete, the arm will enable the rover to hold and use science tools like a human geologist would.\"}, {'title': \"NASA Selects Partners for Mars 2020 'Name the Rover' Contest, Seeks Judges\", 'paragraph': 'The contest for U.S. schoolchildren will open in fall 2019, but judges can sign up now.'}, {'title': \"Curiosity's Mars Methane Mystery Continues\", 'paragraph': 'The Curiosity rover’s follow-on sampling shows last week’s methane levels have sharply decreased.'}, {'title': 'Mars 2020 Rover Gets Its Wheels', 'paragraph': \"With the mobility suspension in place, the rover not only looks more like a rover but has many of its 'big-ticket items' installed.\"}, {'title': \"The Mast Is Raised for NASA's Mars 2020 Rover\", 'paragraph': 'Engineers at JPL take a group selfie after attaching the remote sensing mast to the Mars 2020 rover.'}, {'title': \"NASA's Mars 2020 Will Blaze a Trail — for Humans\", 'paragraph': 'The next robotic Mars mission will carry technology that will help enable astronauts to eventually explore the Red Planet.'}, {'title': 'Johnson-Built Device to Help Mars 2020 Rover Search for Signs of Life', 'paragraph': 'NASA’s Johnson Space Center (JSC) recently built a new calibration device for the rover to check SHERLOC’s function and properly tune it during the upcoming mission.'}, {'title': 'Watch NASA Build Its Next Mars Rover', 'paragraph': \"A newly installed webcam offers the public a live, bird's-eye view of NASA's Mars 2020 rover as it takes shape at NASA's Jet Propulsion Laboratory. \"}, {'title': \"NASA's Mars Helicopter Testing Enters Final Phase\", 'paragraph': \"NASA's Mars Helicopter flight demonstration project has passed a number of key tests with flying colors.\"}, {'title': \"InSight's Team Tries New Strategy to Help the 'Mole'\", 'paragraph': \"The spacecraft's robotic arm will lift the heat probe's support structure, providing a better look at the instrument that has been trying to burrow into the Martian surface.\"}, {'title': \"Common Questions about InSight's 'Mole'\", 'paragraph': 'There\\'s a new plan to get InSight\\'s \"mole\" moving again. The following Q&As with two members of the team answer some of the most common questions about the burrowing device, part of a science instrument called the Heat Flow and Physical Properties Package (HP3).'}, {'title': \"NASA's Curiosity Mars Rover Finds a Clay Cache\", 'paragraph': 'The rover recently drilled two samples, and both showed the highest levels of clay ever found during the mission.'}, {'title': 'NASA to Land in Mars, Pennsylvania to Celebrate Red Planet with STEAM', 'paragraph': 'NASA returns to Mars, Pennsylvania Friday, May 31 to celebrate Mars exploration and share the agency’s excitement about landing astronauts on the Moon in five years.'}, {'title': \"NASA's Mars 2020 Gets a Dose of Space Here on Earth\", 'paragraph': \"NASA's Mars 2020 spacecraft has completed tests that are the best Earthly approximations of what the spacecraft will endure during launch and interplanetary cruise.\"}, {'title': 'NASA Invites Public to Submit Names to Fly Aboard Next Mars Rover', 'paragraph': 'From now till Sept. 30, the public can submit names to be stenciled on chips that will fly on the Mars 2020 rover and receive a souvenir boarding pass.'}, {'title': \"NASA's MRO Completes 60,000 Trips Around Mars\", 'paragraph': 'The orbiting spacecraft is also about to set a record for data relayed from the Martian surface.'}, {'title': 'Video: Fly over Mount Sharp on Mars', 'paragraph': \"A new animation shows the region NASA's Curiosity rover is currently exploring and where its team wants to go in the future.\"}, {'title': 'Why This Martian Full Moon Looks Like Candy', 'paragraph': \"For the first time, NASA's Mars Odyssey orbiter has caught the Martian moon Phobos during a full moon phase. Each color in this new image represents a temperature range detected by Odyssey's infrared camera.\"}, {'title': 'For InSight, Dust Cleanings Will Yield New Science', 'paragraph': 'Wind can be crucial to clearing dust from spacecraft solar panels on Mars. With InSight\\'s meteorological sensors, scientists get their first measurements of wind and dust interacting \"live\" on the Martian surface.  '}]\n"
     ]
    }
   ],
   "source": [
    "# STORE OUTPUT\n",
    "mars_news = [{\"title\": title, \"paragraph\": para} for title,para in zip(title_list, paras_list)]\n",
    "print (mars_news) "
   ]
  },
  {
   "cell_type": "markdown",
   "metadata": {},
   "source": [
    "----\n",
    "\n",
    "### JPL Mars Space Images - Featured Image"
   ]
  },
  {
   "cell_type": "code",
   "execution_count": 9,
   "metadata": {},
   "outputs": [],
   "source": [
    "# Initiate new url and browser to visit it\n",
    "url1 = 'https://www.jpl.nasa.gov/spaceimages/?search=&category=Mars'\n",
    "browser.visit(url1)"
   ]
  },
  {
   "cell_type": "code",
   "execution_count": 10,
   "metadata": {},
   "outputs": [],
   "source": [
    "# Extract HTML from site\n",
    "html1 = browser.html\n",
    "soup1 = bs(html1, 'html.parser')"
   ]
  },
  {
   "cell_type": "code",
   "execution_count": 11,
   "metadata": {},
   "outputs": [
    {
     "name": "stdout",
     "output_type": "stream",
     "text": [
      "https://www.jpl.nasa.gov/spaceimages/images/largesize/PIA23345_hires.jpg\n",
      "https://www.jpl.nasa.gov/spaceimages/images/largesize/PIA23349_hires.jpg\n",
      "https://www.jpl.nasa.gov/spaceimages/images/largesize/PIA23395_hires.jpg\n",
      "https://www.jpl.nasa.gov/spaceimages/images/largesize/PIA23413_hires.jpg\n",
      "https://www.jpl.nasa.gov/spaceimages/images/largesize/PIA23412_hires.jpg\n",
      "https://www.jpl.nasa.gov/spaceimages/images/largesize/PIA23394_hires.jpg\n",
      "https://www.jpl.nasa.gov/spaceimages/images/largesize/PIA23393_hires.jpg\n",
      "https://www.jpl.nasa.gov/spaceimages/images/largesize/PIA23392_hires.jpg\n",
      "https://www.jpl.nasa.gov/spaceimages/images/largesize/PIA23391_hires.jpg\n",
      "https://www.jpl.nasa.gov/spaceimages/images/largesize/PIA23390_hires.jpg\n",
      "https://www.jpl.nasa.gov/spaceimages/images/largesize/PIA23389_hires.jpg\n",
      "https://www.jpl.nasa.gov/spaceimages/images/largesize/PIA23388_hires.jpg\n",
      "https://www.jpl.nasa.gov/spaceimages/images/largesize/PIA23387_hires.jpg\n",
      "https://www.jpl.nasa.gov/spaceimages/images/largesize/PIA23386_hires.jpg\n",
      "https://www.jpl.nasa.gov/spaceimages/images/largesize/PIA23385_hires.jpg\n",
      "https://www.jpl.nasa.gov/spaceimages/images/largesize/PIA23384_hires.jpg\n",
      "https://www.jpl.nasa.gov/spaceimages/images/largesize/PIA23383_hires.jpg\n",
      "https://www.jpl.nasa.gov/spaceimages/images/largesize/PIA23382_hires.jpg\n",
      "https://www.jpl.nasa.gov/spaceimages/images/largesize/PIA23348_hires.jpg\n",
      "https://www.jpl.nasa.gov/spaceimages/images/largesize/PIA23347_hires.jpg\n",
      "https://www.jpl.nasa.gov/spaceimages/images/largesize/PIA23346_hires.jpg\n",
      "https://www.jpl.nasa.gov/spaceimages/images/largesize/PIA23381_hires.jpg\n",
      "https://www.jpl.nasa.gov/spaceimages/images/largesize/PIA23370_hires.jpg\n",
      "https://www.jpl.nasa.gov/spaceimages/images/largesize/PIA23369_hires.jpg\n",
      "https://www.jpl.nasa.gov/spaceimages/images/largesize/PIA23368_hires.jpg\n",
      "https://www.jpl.nasa.gov/spaceimages/images/largesize/PIA23367_hires.jpg\n",
      "https://www.jpl.nasa.gov/spaceimages/images/largesize/PIA23366_hires.jpg\n",
      "https://www.jpl.nasa.gov/spaceimages/images/largesize/PIA23365_hires.jpg\n",
      "https://www.jpl.nasa.gov/spaceimages/images/largesize/PIA23364_hires.jpg\n",
      "https://www.jpl.nasa.gov/spaceimages/images/largesize/PIA23363_hires.jpg\n",
      "https://www.jpl.nasa.gov/spaceimages/images/largesize/PIA23362_hires.jpg\n",
      "https://www.jpl.nasa.gov/spaceimages/images/largesize/PIA23344_hires.jpg\n"
     ]
    },
    {
     "data": {
      "text/plain": [
       "['https://www.jpl.nasa.gov/spaceimages/images/largesize/PIA23345_hires.jpg',\n",
       " 'https://www.jpl.nasa.gov/spaceimages/images/largesize/PIA23349_hires.jpg',\n",
       " 'https://www.jpl.nasa.gov/spaceimages/images/largesize/PIA23395_hires.jpg',\n",
       " 'https://www.jpl.nasa.gov/spaceimages/images/largesize/PIA23413_hires.jpg',\n",
       " 'https://www.jpl.nasa.gov/spaceimages/images/largesize/PIA23412_hires.jpg',\n",
       " 'https://www.jpl.nasa.gov/spaceimages/images/largesize/PIA23394_hires.jpg',\n",
       " 'https://www.jpl.nasa.gov/spaceimages/images/largesize/PIA23393_hires.jpg',\n",
       " 'https://www.jpl.nasa.gov/spaceimages/images/largesize/PIA23392_hires.jpg',\n",
       " 'https://www.jpl.nasa.gov/spaceimages/images/largesize/PIA23391_hires.jpg',\n",
       " 'https://www.jpl.nasa.gov/spaceimages/images/largesize/PIA23390_hires.jpg',\n",
       " 'https://www.jpl.nasa.gov/spaceimages/images/largesize/PIA23389_hires.jpg',\n",
       " 'https://www.jpl.nasa.gov/spaceimages/images/largesize/PIA23388_hires.jpg',\n",
       " 'https://www.jpl.nasa.gov/spaceimages/images/largesize/PIA23387_hires.jpg',\n",
       " 'https://www.jpl.nasa.gov/spaceimages/images/largesize/PIA23386_hires.jpg',\n",
       " 'https://www.jpl.nasa.gov/spaceimages/images/largesize/PIA23385_hires.jpg',\n",
       " 'https://www.jpl.nasa.gov/spaceimages/images/largesize/PIA23384_hires.jpg',\n",
       " 'https://www.jpl.nasa.gov/spaceimages/images/largesize/PIA23383_hires.jpg',\n",
       " 'https://www.jpl.nasa.gov/spaceimages/images/largesize/PIA23382_hires.jpg',\n",
       " 'https://www.jpl.nasa.gov/spaceimages/images/largesize/PIA23348_hires.jpg',\n",
       " 'https://www.jpl.nasa.gov/spaceimages/images/largesize/PIA23347_hires.jpg',\n",
       " 'https://www.jpl.nasa.gov/spaceimages/images/largesize/PIA23346_hires.jpg',\n",
       " 'https://www.jpl.nasa.gov/spaceimages/images/largesize/PIA23381_hires.jpg',\n",
       " 'https://www.jpl.nasa.gov/spaceimages/images/largesize/PIA23370_hires.jpg',\n",
       " 'https://www.jpl.nasa.gov/spaceimages/images/largesize/PIA23369_hires.jpg',\n",
       " 'https://www.jpl.nasa.gov/spaceimages/images/largesize/PIA23368_hires.jpg',\n",
       " 'https://www.jpl.nasa.gov/spaceimages/images/largesize/PIA23367_hires.jpg',\n",
       " 'https://www.jpl.nasa.gov/spaceimages/images/largesize/PIA23366_hires.jpg',\n",
       " 'https://www.jpl.nasa.gov/spaceimages/images/largesize/PIA23365_hires.jpg',\n",
       " 'https://www.jpl.nasa.gov/spaceimages/images/largesize/PIA23364_hires.jpg',\n",
       " 'https://www.jpl.nasa.gov/spaceimages/images/largesize/PIA23363_hires.jpg',\n",
       " 'https://www.jpl.nasa.gov/spaceimages/images/largesize/PIA23362_hires.jpg',\n",
       " 'https://www.jpl.nasa.gov/spaceimages/images/largesize/PIA23344_hires.jpg']"
      ]
     },
     "execution_count": 11,
     "metadata": {},
     "output_type": "execute_result"
    }
   ],
   "source": [
    "# Locate images\n",
    "articles = soup1.find('ul', class_='articles').find_all('li', class_='slide')\n",
    "\n",
    "# Find URL and store into 'featured_image_url' list\n",
    "featured_image_url = []\n",
    "try:\n",
    "    for art in articles:\n",
    "        featured_image = art.a['data-fancybox-href']\n",
    "\n",
    "        featured_image_url.append(\"https://www.jpl.nasa.gov\" + featured_image)\n",
    "        print (f\"https://www.jpl.nasa.gov{featured_image}\")\n",
    "    \n",
    "except AttributeError as e:\n",
    "    print(e)\n",
    "\n",
    "# STORE OUTPUT\n",
    "mars_img = featured_image_url\n",
    "mars_img"
   ]
  },
  {
   "cell_type": "markdown",
   "metadata": {},
   "source": [
    "----\n",
    "\n",
    "### Mars Weather"
   ]
  },
  {
   "cell_type": "code",
   "execution_count": 12,
   "metadata": {},
   "outputs": [],
   "source": [
    "# Initiate new url and browser to visit it\n",
    "url2 = 'https://twitter.com/marswxreport?lang=en'\n",
    "browser.visit(url2)"
   ]
  },
  {
   "cell_type": "code",
   "execution_count": 13,
   "metadata": {},
   "outputs": [],
   "source": [
    "# Extract HTML from site\n",
    "html2 = browser.html\n",
    "soup2 = bs(html2, 'html.parser')"
   ]
  },
  {
   "cell_type": "code",
   "execution_count": 14,
   "metadata": {},
   "outputs": [
    {
     "name": "stdout",
     "output_type": "stream",
     "text": [
      "\n",
      "We\n",
      "\n",
      "InSight\n",
      "\n",
      "InSight\n",
      "\n",
      "InSight\n",
      "\n",
      "InSight\n",
      "\n",
      "InSight\n",
      "\n",
      "InSight\n",
      "\n",
      "InSight\n",
      "\n",
      "InSight\n",
      "\n",
      "InSight\n",
      "\n",
      "InSight\n",
      "\n",
      "InSight\n",
      "\n",
      "InSight\n",
      "\n",
      "\"Dusty\"\n",
      "\n",
      "InSight\n",
      "\n",
      "InSight\n",
      "\n",
      "I’d\n",
      "\n",
      "InSight\n",
      "\n",
      "InSight\n",
      "\n",
      "InSight\n",
      "['InSight sol 265 (2019-08-25) low -99.4ºC (-146.9ºF) high -26.3ºC (-15.3ºF) winds from the SSE at 5.3 m/s (12.0 mph) gusting to 16.1 m/s (35.9 mph) pressure at 7.50 hPapic.twitter.com/9YLawm67zS', 'InSight sol 264 (2019-08-24) low -101.0ºC (-149.7ºF) high -26.7ºC (-16.1ºF) winds from the SW at 4.4 m/s (9.9 mph) gusting to 17.4 m/s (38.9 mph) pressure at 7.60 hPapic.twitter.com/xIytu1MnDG', 'InSight sol 263 (2019-08-23) low -100.9ºC (-149.6ºF) high -27.2ºC (-17.0ºF) winds from the SW at 4.1 m/s (9.2 mph) gusting to 18.3 m/s (40.9 mph) pressure at 7.60 hPa', 'InSight sol 262 (2019-08-22) low -101.3ºC (-150.3ºF) high -26.4ºC (-15.6ºF) winds from the SSE at 4.2 m/s (9.4 mph) gusting to 15.8 m/s (35.3 mph) pressure at 7.60 hPa', 'InSight sol 261 (2019-08-21) low -102.4ºC (-152.4ºF) high -26.6ºC (-15.8ºF) winds from the SSE at 4.9 m/s (11.0 mph) gusting to 16.0 m/s (35.8 mph) pressure at 7.70 hPapic.twitter.com/MhPPOHJg3m', 'InSight sol 260 (2019-08-20) low -101.7ºC (-151.1ºF) high -28.6ºC (-19.5ºF) pressure at 7.60 hPa', 'InSight sol 259 (2019-08-19) low -101.0ºC (-149.8ºF) high -27.1ºC (-16.9ºF) winds from the SW at 4.3 m/s (9.6 mph) gusting to 17.6 m/s (39.4 mph) pressure at 7.60 hPa', 'InSight sol 258 (2019-08-18) low -100.0ºC (-148.1ºF) high -26.2ºC (-15.2ºF) winds from the SSE at 5.3 m/s (11.9 mph) gusting to 16.8 m/s (37.6 mph) pressure at 7.60 hPapic.twitter.com/5nCVjcsmlZ', 'InSight sol 257 (2019-08-17) low -100.2ºC (-148.4ºF) high -26.5ºC (-15.7ºF) winds from the SSE at 4.4 m/s (9.8 mph) gusting to 17.1 m/s (38.2 mph) pressure at 7.60 hPapic.twitter.com/hBQzJWARH0', 'InSight sol 256 (2019-08-16) low -101.7ºC (-151.1ºF) high -25.6ºC (-14.2ºF) winds from the SW at 4.2 m/s (9.4 mph) gusting to 17.9 m/s (40.0 mph) pressure at 7.60 hPa', 'InSight sol 255 (2019-08-15) low -100.1ºC (-148.1ºF) high -24.7ºC (-12.4ºF) winds from the SSW at 4.5 m/s (10.0 mph) gusting to 17.3 m/s (38.6 mph) pressure at 7.60 hPa', 'InSight sol 254 (2019-08-14) low -99.3ºC (-146.7ºF) high -25.9ºC (-14.6ºF) winds from the SE at 4.9 m/s (10.9 mph) gusting to 18.1 m/s (40.5 mph) pressure at 7.60 hPa', 'InSight sol 253 (2019-08-13) low -100.0ºC (-148.1ºF) high -25.5ºC (-13.9ºF) winds from the SSE at 4.6 m/s (10.3 mph) gusting to 16.4 m/s (36.6 mph) pressure at 7.60 hPapic.twitter.com/OnwaHAaYRH', 'InSight sol 252 (2019-08-12) low -100.8ºC (-149.4ºF) high -26.0ºC (-14.8ºF) winds from the SSW at 4.4 m/s (9.8 mph) gusting to 18.3 m/s (40.9 mph) pressure at 7.60 hPapic.twitter.com/WY3JQBXVuU', 'InSight sol 251 (2019-08-11) low -101.0ºC (-149.7ºF) high -26.5ºC (-15.8ºF) winds from the SSE at 4.1 m/s (9.2 mph) gusting to 17.5 m/s (39.1 mph) pressure at 7.60 hPapic.twitter.com/9mgFzHl8t3', 'InSight sol 250 (2019-08-10) low -100.0ºC (-148.1ºF) high -26.2ºC (-15.1ºF) winds from the SSE at 4.4 m/s (9.8 mph) gusting to 16.2 m/s (36.2 mph) pressure at 7.60 hPapic.twitter.com/9sZRRUi3dm', 'InSight sol 249 (2019-08-09) low -98.8ºC (-145.8ºF) high -26.0ºC (-14.8ºF) winds from the SSE at 4.4 m/s (9.8 mph) gusting to 17.5 m/s (39.1 mph) pressure at 7.60 hPapic.twitter.com/jDOsvHTwYg']\n"
     ]
    }
   ],
   "source": [
    "# Find and print Mars Weather\n",
    "mars_weather = []\n",
    "mars_weather_all = (soup2.find_all('div', class_='js-tweet-text-container'))\n",
    "\n",
    "for weather in mars_weather_all:  \n",
    "#     print(weather.text.split(' ')[0])\n",
    "    if (weather.text.strip().replace('\\n', ' ').split(' ')[0] == \"InSight\"):\n",
    "        mars_weather.append(weather.text.strip().replace('\\n', ' '))\n",
    "\n",
    "# STORE OUTPUT\n",
    "print(mars_weather)"
   ]
  },
  {
   "cell_type": "markdown",
   "metadata": {},
   "source": [
    "----\n",
    "\n",
    "### Mars Facts"
   ]
  },
  {
   "cell_type": "code",
   "execution_count": 15,
   "metadata": {},
   "outputs": [],
   "source": [
    "# Initiate new url\n",
    "url3 = 'https://space-facts.com/mars/'"
   ]
  },
  {
   "cell_type": "code",
   "execution_count": 16,
   "metadata": {},
   "outputs": [
    {
     "name": "stdout",
     "output_type": "stream",
     "text": [
      "[  Mars - Earth Comparison             Mars            Earth\n",
      "0               Diameter:         6,779 km        12,742 km\n",
      "1                   Mass:  6.39 × 10^23 kg  5.97 × 10^24 kg\n",
      "2                  Moons:                2                1\n",
      "3      Distance from Sun:   227,943,824 km   149,598,262 km\n",
      "4         Length of Year:   687 Earth days      365.24 days\n",
      "5            Temperature:    -153 to 20 °C      -88 to 58°C,                       0                              1\n",
      "0  Equatorial Diameter:                       6,792 km\n",
      "1       Polar Diameter:                       6,752 km\n",
      "2                 Mass:  6.39 × 10^23 kg (0.11 Earths)\n",
      "3                Moons:            2 (Phobos & Deimos)\n",
      "4       Orbit Distance:       227,943,824 km (1.38 AU)\n",
      "5         Orbit Period:           687 days (1.9 years)\n",
      "6  Surface Temperature:                   -87 to -5 °C\n",
      "7         First Record:              2nd millennium BC\n",
      "8          Recorded By:           Egyptian astronomers]\n"
     ]
    }
   ],
   "source": [
    "# Extract HTML from site\n",
    "tables = pd.read_html(url3, index_col=None)\n",
    "print(tables)"
   ]
  },
  {
   "cell_type": "code",
   "execution_count": 17,
   "metadata": {},
   "outputs": [
    {
     "name": "stdout",
     "output_type": "stream",
     "text": [
      "  Mars - Earth Comparison             Mars            Earth\n",
      "0               Diameter:         6,779 km        12,742 km\n",
      "1                   Mass:  6.39 × 10^23 kg  5.97 × 10^24 kg\n",
      "2                  Moons:                2                1\n",
      "3      Distance from Sun:   227,943,824 km   149,598,262 km\n",
      "4         Length of Year:   687 Earth days      365.24 days\n",
      "5            Temperature:    -153 to 20 °C      -88 to 58°C\n"
     ]
    }
   ],
   "source": [
    "# Create DF of table1\n",
    "mars_table1_df = tables[0]\n",
    "print(mars_table1_df)"
   ]
  },
  {
   "cell_type": "code",
   "execution_count": 18,
   "metadata": {},
   "outputs": [
    {
     "name": "stdout",
     "output_type": "stream",
     "text": [
      "<table border=\"1\" class=\"dataframe\">\n",
      "  <thead>\n",
      "    <tr style=\"text-align: right;\">\n",
      "      <th></th>\n",
      "      <th>Mars - Earth Comparison</th>\n",
      "      <th>Mars</th>\n",
      "      <th>Earth</th>\n",
      "    </tr>\n",
      "  </thead>\n",
      "  <tbody>\n",
      "    <tr>\n",
      "      <th>0</th>\n",
      "      <td>Diameter:</td>\n",
      "      <td>6,779 km</td>\n",
      "      <td>12,742 km</td>\n",
      "    </tr>\n",
      "    <tr>\n",
      "      <th>1</th>\n",
      "      <td>Mass:</td>\n",
      "      <td>6.39 × 10^23 kg</td>\n",
      "      <td>5.97 × 10^24 kg</td>\n",
      "    </tr>\n",
      "    <tr>\n",
      "      <th>2</th>\n",
      "      <td>Moons:</td>\n",
      "      <td>2</td>\n",
      "      <td>1</td>\n",
      "    </tr>\n",
      "    <tr>\n",
      "      <th>3</th>\n",
      "      <td>Distance from Sun:</td>\n",
      "      <td>227,943,824 km</td>\n",
      "      <td>149,598,262 km</td>\n",
      "    </tr>\n",
      "    <tr>\n",
      "      <th>4</th>\n",
      "      <td>Length of Year:</td>\n",
      "      <td>687 Earth days</td>\n",
      "      <td>365.24 days</td>\n",
      "    </tr>\n",
      "    <tr>\n",
      "      <th>5</th>\n",
      "      <td>Temperature:</td>\n",
      "      <td>-153 to 20 °C</td>\n",
      "      <td>-88 to 58°C</td>\n",
      "    </tr>\n",
      "  </tbody>\n",
      "</table>\n"
     ]
    }
   ],
   "source": [
    "# Convert table1 to HTML\n",
    "mars_table1_HTML = mars_table1_df.to_html()\n",
    "print(mars_table1_HTML)"
   ]
  },
  {
   "cell_type": "code",
   "execution_count": 19,
   "metadata": {},
   "outputs": [],
   "source": [
    "# Create DF of table 2\n",
    "mars_table2_df = tables[1]\n",
    "mars_table2_df1 = pd.DataFrame()\n",
    "mars_table2_df1[\"description\"] = mars_table2_df[0]\n",
    "mars_table2_df1[\"values\"] = mars_table2_df[1]\n",
    "mars_table2_df1.set_index(\"description\", inplace=True)\n",
    "mars_table2_df = mars_table2_df1"
   ]
  },
  {
   "cell_type": "code",
   "execution_count": 20,
   "metadata": {},
   "outputs": [
    {
     "name": "stdout",
     "output_type": "stream",
     "text": [
      "<table border=\"1\" class=\"dataframe\">\n",
      "  <thead>\n",
      "    <tr style=\"text-align: right;\">\n",
      "      <th></th>\n",
      "      <th>values</th>\n",
      "    </tr>\n",
      "    <tr>\n",
      "      <th>description</th>\n",
      "      <th></th>\n",
      "    </tr>\n",
      "  </thead>\n",
      "  <tbody>\n",
      "    <tr>\n",
      "      <th>Equatorial Diameter:</th>\n",
      "      <td>6,792 km</td>\n",
      "    </tr>\n",
      "    <tr>\n",
      "      <th>Polar Diameter:</th>\n",
      "      <td>6,752 km</td>\n",
      "    </tr>\n",
      "    <tr>\n",
      "      <th>Mass:</th>\n",
      "      <td>6.39 × 10^23 kg (0.11 Earths)</td>\n",
      "    </tr>\n",
      "    <tr>\n",
      "      <th>Moons:</th>\n",
      "      <td>2 (Phobos &amp; Deimos)</td>\n",
      "    </tr>\n",
      "    <tr>\n",
      "      <th>Orbit Distance:</th>\n",
      "      <td>227,943,824 km (1.38 AU)</td>\n",
      "    </tr>\n",
      "    <tr>\n",
      "      <th>Orbit Period:</th>\n",
      "      <td>687 days (1.9 years)</td>\n",
      "    </tr>\n",
      "    <tr>\n",
      "      <th>Surface Temperature:</th>\n",
      "      <td>-87 to -5 °C</td>\n",
      "    </tr>\n",
      "    <tr>\n",
      "      <th>First Record:</th>\n",
      "      <td>2nd millennium BC</td>\n",
      "    </tr>\n",
      "    <tr>\n",
      "      <th>Recorded By:</th>\n",
      "      <td>Egyptian astronomers</td>\n",
      "    </tr>\n",
      "  </tbody>\n",
      "</table>\n"
     ]
    }
   ],
   "source": [
    "# Convert table2 to HTMl\n",
    "mars_table2_HTML = mars_table2_df.to_html()\n",
    "print(mars_table2_HTML)"
   ]
  },
  {
   "cell_type": "code",
   "execution_count": 21,
   "metadata": {},
   "outputs": [],
   "source": [
    "# mars_table2_HTML = mars_table2_df.to_html()\n",
    "\n",
    "\n",
    "\n",
    "# soup_table = bs(mars_table2_HTML, 'html.parser')\n",
    "# print(soup_table)\n",
    "# mars_table2_HTML = soup_table.table\n",
    "\n",
    "# for th in soup_table(\"th\"):\n",
    "#     soup_table.th.decompose()\n",
    "# print(\"=============================\")\n",
    "# print(mars_table2_HTML.replace(\"\\n\", \"\"))"
   ]
  },
  {
   "cell_type": "code",
   "execution_count": 22,
   "metadata": {},
   "outputs": [
    {
     "name": "stdout",
     "output_type": "stream",
     "text": [
      "['<table border=\"1\" class=\"dataframe\">\\n  <thead>\\n    <tr style=\"text-align: right;\">\\n      <th></th>\\n      <th>Mars - Earth Comparison</th>\\n      <th>Mars</th>\\n      <th>Earth</th>\\n    </tr>\\n  </thead>\\n  <tbody>\\n    <tr>\\n      <th>0</th>\\n      <td>Diameter:</td>\\n      <td>6,779 km</td>\\n      <td>12,742 km</td>\\n    </tr>\\n    <tr>\\n      <th>1</th>\\n      <td>Mass:</td>\\n      <td>6.39 × 10^23 kg</td>\\n      <td>5.97 × 10^24 kg</td>\\n    </tr>\\n    <tr>\\n      <th>2</th>\\n      <td>Moons:</td>\\n      <td>2</td>\\n      <td>1</td>\\n    </tr>\\n    <tr>\\n      <th>3</th>\\n      <td>Distance from Sun:</td>\\n      <td>227,943,824 km</td>\\n      <td>149,598,262 km</td>\\n    </tr>\\n    <tr>\\n      <th>4</th>\\n      <td>Length of Year:</td>\\n      <td>687 Earth days</td>\\n      <td>365.24 days</td>\\n    </tr>\\n    <tr>\\n      <th>5</th>\\n      <td>Temperature:</td>\\n      <td>-153 to 20 °C</td>\\n      <td>-88 to 58°C</td>\\n    </tr>\\n  </tbody>\\n</table>', '<table border=\"1\" class=\"dataframe\">\\n  <thead>\\n    <tr style=\"text-align: right;\">\\n      <th></th>\\n      <th>values</th>\\n    </tr>\\n    <tr>\\n      <th>description</th>\\n      <th></th>\\n    </tr>\\n  </thead>\\n  <tbody>\\n    <tr>\\n      <th>Equatorial Diameter:</th>\\n      <td>6,792 km</td>\\n    </tr>\\n    <tr>\\n      <th>Polar Diameter:</th>\\n      <td>6,752 km</td>\\n    </tr>\\n    <tr>\\n      <th>Mass:</th>\\n      <td>6.39 × 10^23 kg (0.11 Earths)</td>\\n    </tr>\\n    <tr>\\n      <th>Moons:</th>\\n      <td>2 (Phobos &amp; Deimos)</td>\\n    </tr>\\n    <tr>\\n      <th>Orbit Distance:</th>\\n      <td>227,943,824 km (1.38 AU)</td>\\n    </tr>\\n    <tr>\\n      <th>Orbit Period:</th>\\n      <td>687 days (1.9 years)</td>\\n    </tr>\\n    <tr>\\n      <th>Surface Temperature:</th>\\n      <td>-87 to -5 °C</td>\\n    </tr>\\n    <tr>\\n      <th>First Record:</th>\\n      <td>2nd millennium BC</td>\\n    </tr>\\n    <tr>\\n      <th>Recorded By:</th>\\n      <td>Egyptian astronomers</td>\\n    </tr>\\n  </tbody>\\n</table>']\n"
     ]
    }
   ],
   "source": [
    "# STORE OUTPUT\n",
    "mars_facts = [mars_table1_HTML, mars_table2_HTML]\n",
    "print(mars_facts)"
   ]
  },
  {
   "cell_type": "markdown",
   "metadata": {},
   "source": [
    "----\n",
    "\n",
    "### Mars Hemispheres\n"
   ]
  },
  {
   "cell_type": "code",
   "execution_count": 23,
   "metadata": {},
   "outputs": [],
   "source": [
    "# Initiate new URL\n",
    "url4 = 'https://astrogeology.usgs.gov/search/results?q=hemisphere+enhanced&k1=target&v1=Mars'\n",
    "browser.visit(url4)"
   ]
  },
  {
   "cell_type": "code",
   "execution_count": 24,
   "metadata": {},
   "outputs": [
    {
     "name": "stdout",
     "output_type": "stream",
     "text": [
      "Cerberus Hemisphere\n",
      "https://astrogeology.usgs.gov/cache/images/cfa62af2557222a02478f1fcd781d445_cerberus_enhanced.tif_full.jpg\n",
      "Schiaparelli Hemisphere\n",
      "https://astrogeology.usgs.gov/cache/images/3cdd1cbf5e0813bba925c9030d13b62e_schiaparelli_enhanced.tif_full.jpg\n",
      "Syrtis Major Hemisphere\n",
      "https://astrogeology.usgs.gov/cache/images/ae209b4e408bb6c3e67b6af38168cf28_syrtis_major_enhanced.tif_full.jpg\n",
      "Valles Marineris Hemisphere\n",
      "https://astrogeology.usgs.gov/cache/images/7cf2da4bf549ed01c17f206327be4db7_valles_marineris_enhanced.tif_full.jpg\n",
      "[{'title': 'Cerberus Hemisphere', 'img_url': 'https://astrogeology.usgs.gov/cache/images/cfa62af2557222a02478f1fcd781d445_cerberus_enhanced.tif_full.jpg'}, {'title': 'Schiaparelli Hemisphere', 'img_url': 'https://astrogeology.usgs.gov/cache/images/3cdd1cbf5e0813bba925c9030d13b62e_schiaparelli_enhanced.tif_full.jpg'}, {'title': 'Syrtis Major Hemisphere', 'img_url': 'https://astrogeology.usgs.gov/cache/images/ae209b4e408bb6c3e67b6af38168cf28_syrtis_major_enhanced.tif_full.jpg'}, {'title': 'Valles Marineris Hemisphere', 'img_url': 'https://astrogeology.usgs.gov/cache/images/7cf2da4bf549ed01c17f206327be4db7_valles_marineris_enhanced.tif_full.jpg'}]\n"
     ]
    }
   ],
   "source": [
    "# Extract HTML from site\n",
    "html4 = browser.html\n",
    "soup4 = bs(html4, 'html.parser')\n",
    "\n",
    "# Identify links to be visited\n",
    "links_container = soup4.find_all('div', class_='item')\n",
    "\n",
    "# Visit each site obtained above and extract Title and full-res image URLs\n",
    "hemisphere_image_urls = []\n",
    "\n",
    "for lc in links_container:\n",
    "    # Find link to visit and visit it\n",
    "    link = lc.a['href']\n",
    "    full_link = \"https://astrogeology.usgs.gov\" + link\n",
    "    browser.visit(full_link)\n",
    "    click_soup = bs(browser.html, 'html.parser')\n",
    "    \n",
    "    # Find title\n",
    "    title = click_soup.find('h2').text.strip('Enhanced').rstrip()\n",
    "    print(title)\n",
    "    \n",
    "    # Find URL\n",
    "    img_url = click_soup.find('div', class_='wide-image-wrapper').find('img', class_='wide-image')['src']\n",
    "    img_url = \"https://astrogeology.usgs.gov\"+img_url\n",
    "    print(img_url)\n",
    "    \n",
    "    # Append dictionary of title and img_url to list\n",
    "    hemisphere_image_urls.append({\"title\": title, \"img_url\": img_url})\n",
    "    \n",
    "    # Return to starting page (used for testing purposes)\n",
    "    browser.visit(url4)\n",
    "\n",
    "# Print list of dictionaries of hemispheres\n",
    "mars_hemisphere = hemisphere_image_urls\n",
    "print(mars_hemisphere)"
   ]
  },
  {
   "cell_type": "markdown",
   "metadata": {},
   "source": [
    "## Step 2 - MongoDB and Flask Application"
   ]
  },
  {
   "cell_type": "code",
   "execution_count": 25,
   "metadata": {},
   "outputs": [],
   "source": [
    "# Convert ipynb to py file\n",
    "# !jupyter nbconvert --to script JJREE_mission_to_mars.ipynb"
   ]
  },
  {
   "cell_type": "code",
   "execution_count": 26,
   "metadata": {},
   "outputs": [
    {
     "data": {
      "text/plain": [
       "{'mars_news': [{'title': 'NASA Invites Students to Name Mars 2020 Rover',\n",
       "   'paragraph': \"Through Nov. 1, K-12 students in the U.S. are encouraged to enter an essay contest to name NASA's next Mars rover.\"},\n",
       "  {'title': \"NASA's Mars Helicopter Attached to Mars 2020 Rover \",\n",
       "   'paragraph': 'The helicopter will be first aircraft to perform flight tests on another planet.'},\n",
       "  {'title': \"What's Mars Solar Conjunction, and Why Does It Matter?\",\n",
       "   'paragraph': 'NASA spacecraft at Mars are going to be on their own for a few weeks when the Sun comes between Mars and Earth, interrupting communications.'},\n",
       "  {'title': 'Scientists Explore Outback as Testbed for Mars ',\n",
       "   'paragraph': \"Australia provides a great place for NASA's Mars 2020 and the ESA-Roscosmos ExoMars scientists to hone techniques in preparation for searching for signs ancient life on Mars.\"},\n",
       "  {'title': \"NASA-JPL Names 'Rolling Stones Rock' on Mars\",\n",
       "   'paragraph': \"NASA's Mars InSight mission honored one of the biggest bands of all time at Pasadena concert.\"},\n",
       "  {'title': \"Robotic Toolkit Added to NASA's Mars 2020 Rover\",\n",
       "   'paragraph': \"The bit carousel, which lies at the heart of the rover's Sample Caching System, is now aboard NASA's newest rover. \"},\n",
       "  {'title': \"Space Samples Link NASA's Apollo 11 and Mars 2020\",\n",
       "   'paragraph': \"While separated by half a century, NASA's Apollo 11 and Mars 2020 missions share the same historic goal: returning samples to Earth.\"},\n",
       "  {'title': 'Small Satellite Mission of the Year',\n",
       "   'paragraph': 'The first interplanetary CubeSats were recognized by the engineering community with the 2019 Small Satellite Mission of the Year award.'},\n",
       "  {'title': \"NASA 'Optometrists' Verify Mars 2020 Rover's 20/20 Vision\",\n",
       "   'paragraph': 'Mars 2020 rover underwent an eye exam after several cameras were installed on the rover.'},\n",
       "  {'title': 'New Finds for Mars Rover, Seven Years After Landing',\n",
       "   'paragraph': 'NASA\\'s Curiosity rover is discovering odd rocks halfway into a region called the \"clay-bearing unit.\"'},\n",
       "  {'title': 'MEDLI2 Installation on Mars 2020 Aeroshell Begins',\n",
       "   'paragraph': \"Hardware installed onto NASA's Mars 2020 entry vehicle this week will help to increase the safety of future Mars landings.\"},\n",
       "  {'title': \"NASA's Mars 2020 Rover Does Biceps Curls \",\n",
       "   'paragraph': \"In this time-lapse video, the robotic arm on NASA's Mars 2020 rover maneuvers its 88-pound (40-kilogram) sensor-laden turret as it moves from a deployed to stowed configuration.\"},\n",
       "  {'title': \"Fueling of NASA's Mars 2020 Rover Power System Begins\",\n",
       "   'paragraph': \"NASA gives the go-ahead to fuel the Mars 2020 rover's Multi-Mission Radioisotope Thermoelectric Generator, which will power rover and help keep it warm while exploring Mars.\"},\n",
       "  {'title': 'What Does a Marsquake Look Like?',\n",
       "   'paragraph': 'InSight scientists used a special \"shake room\" to demonstrate the differences between quakes on Earth, the Moon and Mars.'},\n",
       "  {'title': 'Mars 2020 Rover: T-Minus One Year and Counting ',\n",
       "   'paragraph': \"The launch period for NASA's next rover, Mars 2020, opens exactly one year from today, July 17, 2020, and extends through Aug. 5, 2020.\"},\n",
       "  {'title': 'NASA Racks Up Two Emmy Nominations for Mission Coverage',\n",
       "   'paragraph': \"JPL's coverage of the Mars InSight mission is among the efforts that will be up for an award in mid-September.\"},\n",
       "  {'title': 'Want to Colonize Mars? Aerogel Could Help',\n",
       "   'paragraph': 'Researchers are studying whether a wonder material used in Mars rovers could help warm parts of the Red Planet rich in water ice.'},\n",
       "  {'title': 'A Rover Pit Stop at JPL',\n",
       "   'paragraph': \"Working like a finely honed machine, a team of engineers in this time-lapse video clip install test wheels on another finely honed machine: NASA's Mars 2020 rover.\"},\n",
       "  {'title': 'Mars 2020 Rover Gets a Super Instrument',\n",
       "   'paragraph': 'With its rock-zapping laser, the SuperCam will enable the science team to identify the chemical and mineral makeup of its targets on the Red Planet.'},\n",
       "  {'title': 'A Neil Armstrong for Mars: Landing the Mars 2020 Rover',\n",
       "   'paragraph': \"NASA's newest rover will have an autopilot called Terrain-Relative Navigation.\"},\n",
       "  {'title': \"NASA's InSight Uncovers the 'Mole' \",\n",
       "   'paragraph': \"The lander's robotic arm has successfully removed a piece of hardware blocking the view of its digging device in order to help with recovery efforts.\"},\n",
       "  {'title': \"Mars 2020 Rover's 7-Foot-Long Robotic Arm Installed\",\n",
       "   'paragraph': \"The main robotic arm has been installed on NASA's newest rover. When complete, the arm will enable the rover to hold and use science tools like a human geologist would.\"},\n",
       "  {'title': \"NASA Selects Partners for Mars 2020 'Name the Rover' Contest, Seeks Judges\",\n",
       "   'paragraph': 'The contest for U.S. schoolchildren will open in fall 2019, but judges can sign up now.'},\n",
       "  {'title': \"Curiosity's Mars Methane Mystery Continues\",\n",
       "   'paragraph': 'The Curiosity rover’s follow-on sampling shows last week’s methane levels have sharply decreased.'},\n",
       "  {'title': 'Mars 2020 Rover Gets Its Wheels',\n",
       "   'paragraph': \"With the mobility suspension in place, the rover not only looks more like a rover but has many of its 'big-ticket items' installed.\"},\n",
       "  {'title': \"The Mast Is Raised for NASA's Mars 2020 Rover\",\n",
       "   'paragraph': 'Engineers at JPL take a group selfie after attaching the remote sensing mast to the Mars 2020 rover.'},\n",
       "  {'title': \"NASA's Mars 2020 Will Blaze a Trail — for Humans\",\n",
       "   'paragraph': 'The next robotic Mars mission will carry technology that will help enable astronauts to eventually explore the Red Planet.'},\n",
       "  {'title': 'Johnson-Built Device to Help Mars 2020 Rover Search for Signs of Life',\n",
       "   'paragraph': 'NASA’s Johnson Space Center (JSC) recently built a new calibration device for the rover to check SHERLOC’s function and properly tune it during the upcoming mission.'},\n",
       "  {'title': 'Watch NASA Build Its Next Mars Rover',\n",
       "   'paragraph': \"A newly installed webcam offers the public a live, bird's-eye view of NASA's Mars 2020 rover as it takes shape at NASA's Jet Propulsion Laboratory. \"},\n",
       "  {'title': \"NASA's Mars Helicopter Testing Enters Final Phase\",\n",
       "   'paragraph': \"NASA's Mars Helicopter flight demonstration project has passed a number of key tests with flying colors.\"},\n",
       "  {'title': \"InSight's Team Tries New Strategy to Help the 'Mole'\",\n",
       "   'paragraph': \"The spacecraft's robotic arm will lift the heat probe's support structure, providing a better look at the instrument that has been trying to burrow into the Martian surface.\"},\n",
       "  {'title': \"Common Questions about InSight's 'Mole'\",\n",
       "   'paragraph': 'There\\'s a new plan to get InSight\\'s \"mole\" moving again. The following Q&As with two members of the team answer some of the most common questions about the burrowing device, part of a science instrument called the Heat Flow and Physical Properties Package (HP3).'},\n",
       "  {'title': \"NASA's Curiosity Mars Rover Finds a Clay Cache\",\n",
       "   'paragraph': 'The rover recently drilled two samples, and both showed the highest levels of clay ever found during the mission.'},\n",
       "  {'title': 'NASA to Land in Mars, Pennsylvania to Celebrate Red Planet with STEAM',\n",
       "   'paragraph': 'NASA returns to Mars, Pennsylvania Friday, May 31 to celebrate Mars exploration and share the agency’s excitement about landing astronauts on the Moon in five years.'},\n",
       "  {'title': \"NASA's Mars 2020 Gets a Dose of Space Here on Earth\",\n",
       "   'paragraph': \"NASA's Mars 2020 spacecraft has completed tests that are the best Earthly approximations of what the spacecraft will endure during launch and interplanetary cruise.\"},\n",
       "  {'title': 'NASA Invites Public to Submit Names to Fly Aboard Next Mars Rover',\n",
       "   'paragraph': 'From now till Sept. 30, the public can submit names to be stenciled on chips that will fly on the Mars 2020 rover and receive a souvenir boarding pass.'},\n",
       "  {'title': \"NASA's MRO Completes 60,000 Trips Around Mars\",\n",
       "   'paragraph': 'The orbiting spacecraft is also about to set a record for data relayed from the Martian surface.'},\n",
       "  {'title': 'Video: Fly over Mount Sharp on Mars',\n",
       "   'paragraph': \"A new animation shows the region NASA's Curiosity rover is currently exploring and where its team wants to go in the future.\"},\n",
       "  {'title': 'Why This Martian Full Moon Looks Like Candy',\n",
       "   'paragraph': \"For the first time, NASA's Mars Odyssey orbiter has caught the Martian moon Phobos during a full moon phase. Each color in this new image represents a temperature range detected by Odyssey's infrared camera.\"},\n",
       "  {'title': 'For InSight, Dust Cleanings Will Yield New Science',\n",
       "   'paragraph': 'Wind can be crucial to clearing dust from spacecraft solar panels on Mars. With InSight\\'s meteorological sensors, scientists get their first measurements of wind and dust interacting \"live\" on the Martian surface.  '}],\n",
       " 'mars_img': ['https://www.jpl.nasa.gov/spaceimages/images/largesize/PIA23345_hires.jpg',\n",
       "  'https://www.jpl.nasa.gov/spaceimages/images/largesize/PIA23349_hires.jpg',\n",
       "  'https://www.jpl.nasa.gov/spaceimages/images/largesize/PIA23395_hires.jpg',\n",
       "  'https://www.jpl.nasa.gov/spaceimages/images/largesize/PIA23413_hires.jpg',\n",
       "  'https://www.jpl.nasa.gov/spaceimages/images/largesize/PIA23412_hires.jpg',\n",
       "  'https://www.jpl.nasa.gov/spaceimages/images/largesize/PIA23394_hires.jpg',\n",
       "  'https://www.jpl.nasa.gov/spaceimages/images/largesize/PIA23393_hires.jpg',\n",
       "  'https://www.jpl.nasa.gov/spaceimages/images/largesize/PIA23392_hires.jpg',\n",
       "  'https://www.jpl.nasa.gov/spaceimages/images/largesize/PIA23391_hires.jpg',\n",
       "  'https://www.jpl.nasa.gov/spaceimages/images/largesize/PIA23390_hires.jpg',\n",
       "  'https://www.jpl.nasa.gov/spaceimages/images/largesize/PIA23389_hires.jpg',\n",
       "  'https://www.jpl.nasa.gov/spaceimages/images/largesize/PIA23388_hires.jpg',\n",
       "  'https://www.jpl.nasa.gov/spaceimages/images/largesize/PIA23387_hires.jpg',\n",
       "  'https://www.jpl.nasa.gov/spaceimages/images/largesize/PIA23386_hires.jpg',\n",
       "  'https://www.jpl.nasa.gov/spaceimages/images/largesize/PIA23385_hires.jpg',\n",
       "  'https://www.jpl.nasa.gov/spaceimages/images/largesize/PIA23384_hires.jpg',\n",
       "  'https://www.jpl.nasa.gov/spaceimages/images/largesize/PIA23383_hires.jpg',\n",
       "  'https://www.jpl.nasa.gov/spaceimages/images/largesize/PIA23382_hires.jpg',\n",
       "  'https://www.jpl.nasa.gov/spaceimages/images/largesize/PIA23348_hires.jpg',\n",
       "  'https://www.jpl.nasa.gov/spaceimages/images/largesize/PIA23347_hires.jpg',\n",
       "  'https://www.jpl.nasa.gov/spaceimages/images/largesize/PIA23346_hires.jpg',\n",
       "  'https://www.jpl.nasa.gov/spaceimages/images/largesize/PIA23381_hires.jpg',\n",
       "  'https://www.jpl.nasa.gov/spaceimages/images/largesize/PIA23370_hires.jpg',\n",
       "  'https://www.jpl.nasa.gov/spaceimages/images/largesize/PIA23369_hires.jpg',\n",
       "  'https://www.jpl.nasa.gov/spaceimages/images/largesize/PIA23368_hires.jpg',\n",
       "  'https://www.jpl.nasa.gov/spaceimages/images/largesize/PIA23367_hires.jpg',\n",
       "  'https://www.jpl.nasa.gov/spaceimages/images/largesize/PIA23366_hires.jpg',\n",
       "  'https://www.jpl.nasa.gov/spaceimages/images/largesize/PIA23365_hires.jpg',\n",
       "  'https://www.jpl.nasa.gov/spaceimages/images/largesize/PIA23364_hires.jpg',\n",
       "  'https://www.jpl.nasa.gov/spaceimages/images/largesize/PIA23363_hires.jpg',\n",
       "  'https://www.jpl.nasa.gov/spaceimages/images/largesize/PIA23362_hires.jpg',\n",
       "  'https://www.jpl.nasa.gov/spaceimages/images/largesize/PIA23344_hires.jpg'],\n",
       " 'mars_weather': ['InSight sol 265 (2019-08-25) low -99.4ºC (-146.9ºF) high -26.3ºC (-15.3ºF) winds from the SSE at 5.3 m/s (12.0 mph) gusting to 16.1 m/s (35.9 mph) pressure at 7.50 hPapic.twitter.com/9YLawm67zS',\n",
       "  'InSight sol 264 (2019-08-24) low -101.0ºC (-149.7ºF) high -26.7ºC (-16.1ºF) winds from the SW at 4.4 m/s (9.9 mph) gusting to 17.4 m/s (38.9 mph) pressure at 7.60 hPapic.twitter.com/xIytu1MnDG',\n",
       "  'InSight sol 263 (2019-08-23) low -100.9ºC (-149.6ºF) high -27.2ºC (-17.0ºF) winds from the SW at 4.1 m/s (9.2 mph) gusting to 18.3 m/s (40.9 mph) pressure at 7.60 hPa',\n",
       "  'InSight sol 262 (2019-08-22) low -101.3ºC (-150.3ºF) high -26.4ºC (-15.6ºF) winds from the SSE at 4.2 m/s (9.4 mph) gusting to 15.8 m/s (35.3 mph) pressure at 7.60 hPa',\n",
       "  'InSight sol 261 (2019-08-21) low -102.4ºC (-152.4ºF) high -26.6ºC (-15.8ºF) winds from the SSE at 4.9 m/s (11.0 mph) gusting to 16.0 m/s (35.8 mph) pressure at 7.70 hPapic.twitter.com/MhPPOHJg3m',\n",
       "  'InSight sol 260 (2019-08-20) low -101.7ºC (-151.1ºF) high -28.6ºC (-19.5ºF) pressure at 7.60 hPa',\n",
       "  'InSight sol 259 (2019-08-19) low -101.0ºC (-149.8ºF) high -27.1ºC (-16.9ºF) winds from the SW at 4.3 m/s (9.6 mph) gusting to 17.6 m/s (39.4 mph) pressure at 7.60 hPa',\n",
       "  'InSight sol 258 (2019-08-18) low -100.0ºC (-148.1ºF) high -26.2ºC (-15.2ºF) winds from the SSE at 5.3 m/s (11.9 mph) gusting to 16.8 m/s (37.6 mph) pressure at 7.60 hPapic.twitter.com/5nCVjcsmlZ',\n",
       "  'InSight sol 257 (2019-08-17) low -100.2ºC (-148.4ºF) high -26.5ºC (-15.7ºF) winds from the SSE at 4.4 m/s (9.8 mph) gusting to 17.1 m/s (38.2 mph) pressure at 7.60 hPapic.twitter.com/hBQzJWARH0',\n",
       "  'InSight sol 256 (2019-08-16) low -101.7ºC (-151.1ºF) high -25.6ºC (-14.2ºF) winds from the SW at 4.2 m/s (9.4 mph) gusting to 17.9 m/s (40.0 mph) pressure at 7.60 hPa',\n",
       "  'InSight sol 255 (2019-08-15) low -100.1ºC (-148.1ºF) high -24.7ºC (-12.4ºF) winds from the SSW at 4.5 m/s (10.0 mph) gusting to 17.3 m/s (38.6 mph) pressure at 7.60 hPa',\n",
       "  'InSight sol 254 (2019-08-14) low -99.3ºC (-146.7ºF) high -25.9ºC (-14.6ºF) winds from the SE at 4.9 m/s (10.9 mph) gusting to 18.1 m/s (40.5 mph) pressure at 7.60 hPa',\n",
       "  'InSight sol 253 (2019-08-13) low -100.0ºC (-148.1ºF) high -25.5ºC (-13.9ºF) winds from the SSE at 4.6 m/s (10.3 mph) gusting to 16.4 m/s (36.6 mph) pressure at 7.60 hPapic.twitter.com/OnwaHAaYRH',\n",
       "  'InSight sol 252 (2019-08-12) low -100.8ºC (-149.4ºF) high -26.0ºC (-14.8ºF) winds from the SSW at 4.4 m/s (9.8 mph) gusting to 18.3 m/s (40.9 mph) pressure at 7.60 hPapic.twitter.com/WY3JQBXVuU',\n",
       "  'InSight sol 251 (2019-08-11) low -101.0ºC (-149.7ºF) high -26.5ºC (-15.8ºF) winds from the SSE at 4.1 m/s (9.2 mph) gusting to 17.5 m/s (39.1 mph) pressure at 7.60 hPapic.twitter.com/9mgFzHl8t3',\n",
       "  'InSight sol 250 (2019-08-10) low -100.0ºC (-148.1ºF) high -26.2ºC (-15.1ºF) winds from the SSE at 4.4 m/s (9.8 mph) gusting to 16.2 m/s (36.2 mph) pressure at 7.60 hPapic.twitter.com/9sZRRUi3dm',\n",
       "  'InSight sol 249 (2019-08-09) low -98.8ºC (-145.8ºF) high -26.0ºC (-14.8ºF) winds from the SSE at 4.4 m/s (9.8 mph) gusting to 17.5 m/s (39.1 mph) pressure at 7.60 hPapic.twitter.com/jDOsvHTwYg'],\n",
       " 'mars_facts': ['<table border=\"1\" class=\"dataframe\">\\n  <thead>\\n    <tr style=\"text-align: right;\">\\n      <th></th>\\n      <th>Mars - Earth Comparison</th>\\n      <th>Mars</th>\\n      <th>Earth</th>\\n    </tr>\\n  </thead>\\n  <tbody>\\n    <tr>\\n      <th>0</th>\\n      <td>Diameter:</td>\\n      <td>6,779 km</td>\\n      <td>12,742 km</td>\\n    </tr>\\n    <tr>\\n      <th>1</th>\\n      <td>Mass:</td>\\n      <td>6.39 × 10^23 kg</td>\\n      <td>5.97 × 10^24 kg</td>\\n    </tr>\\n    <tr>\\n      <th>2</th>\\n      <td>Moons:</td>\\n      <td>2</td>\\n      <td>1</td>\\n    </tr>\\n    <tr>\\n      <th>3</th>\\n      <td>Distance from Sun:</td>\\n      <td>227,943,824 km</td>\\n      <td>149,598,262 km</td>\\n    </tr>\\n    <tr>\\n      <th>4</th>\\n      <td>Length of Year:</td>\\n      <td>687 Earth days</td>\\n      <td>365.24 days</td>\\n    </tr>\\n    <tr>\\n      <th>5</th>\\n      <td>Temperature:</td>\\n      <td>-153 to 20 °C</td>\\n      <td>-88 to 58°C</td>\\n    </tr>\\n  </tbody>\\n</table>',\n",
       "  '<table border=\"1\" class=\"dataframe\">\\n  <thead>\\n    <tr style=\"text-align: right;\">\\n      <th></th>\\n      <th>values</th>\\n    </tr>\\n    <tr>\\n      <th>description</th>\\n      <th></th>\\n    </tr>\\n  </thead>\\n  <tbody>\\n    <tr>\\n      <th>Equatorial Diameter:</th>\\n      <td>6,792 km</td>\\n    </tr>\\n    <tr>\\n      <th>Polar Diameter:</th>\\n      <td>6,752 km</td>\\n    </tr>\\n    <tr>\\n      <th>Mass:</th>\\n      <td>6.39 × 10^23 kg (0.11 Earths)</td>\\n    </tr>\\n    <tr>\\n      <th>Moons:</th>\\n      <td>2 (Phobos &amp; Deimos)</td>\\n    </tr>\\n    <tr>\\n      <th>Orbit Distance:</th>\\n      <td>227,943,824 km (1.38 AU)</td>\\n    </tr>\\n    <tr>\\n      <th>Orbit Period:</th>\\n      <td>687 days (1.9 years)</td>\\n    </tr>\\n    <tr>\\n      <th>Surface Temperature:</th>\\n      <td>-87 to -5 °C</td>\\n    </tr>\\n    <tr>\\n      <th>First Record:</th>\\n      <td>2nd millennium BC</td>\\n    </tr>\\n    <tr>\\n      <th>Recorded By:</th>\\n      <td>Egyptian astronomers</td>\\n    </tr>\\n  </tbody>\\n</table>'],\n",
       " 'mars_hemispheres': [{'title': 'Cerberus Hemisphere',\n",
       "   'img_url': 'https://astrogeology.usgs.gov/cache/images/cfa62af2557222a02478f1fcd781d445_cerberus_enhanced.tif_full.jpg'},\n",
       "  {'title': 'Schiaparelli Hemisphere',\n",
       "   'img_url': 'https://astrogeology.usgs.gov/cache/images/3cdd1cbf5e0813bba925c9030d13b62e_schiaparelli_enhanced.tif_full.jpg'},\n",
       "  {'title': 'Syrtis Major Hemisphere',\n",
       "   'img_url': 'https://astrogeology.usgs.gov/cache/images/ae209b4e408bb6c3e67b6af38168cf28_syrtis_major_enhanced.tif_full.jpg'},\n",
       "  {'title': 'Valles Marineris Hemisphere',\n",
       "   'img_url': 'https://astrogeology.usgs.gov/cache/images/7cf2da4bf549ed01c17f206327be4db7_valles_marineris_enhanced.tif_full.jpg'}]}"
      ]
     },
     "execution_count": 26,
     "metadata": {},
     "output_type": "execute_result"
    }
   ],
   "source": [
    "all_info={}\n",
    "all_info= {\"mars_news\": mars_news,\"mars_img\": mars_img, \"mars_weather\": mars_weather,\"mars_facts\": mars_facts, \"mars_hemispheres\": mars_hemisphere}\n",
    "\n",
    "all_info"
   ]
  },
  {
   "cell_type": "code",
   "execution_count": null,
   "metadata": {},
   "outputs": [],
   "source": []
  }
 ],
 "metadata": {
  "kernelspec": {
   "display_name": "Python 36 (PythonData)",
   "language": "python",
   "name": "pythondata"
  },
  "language_info": {
   "codemirror_mode": {
    "name": "ipython",
    "version": 3
   },
   "file_extension": ".py",
   "mimetype": "text/x-python",
   "name": "python",
   "nbconvert_exporter": "python",
   "pygments_lexer": "ipython3",
   "version": "3.6.8"
  }
 },
 "nbformat": 4,
 "nbformat_minor": 2
}
