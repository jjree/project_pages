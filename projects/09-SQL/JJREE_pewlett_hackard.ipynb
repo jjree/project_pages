{
 "cells": [
  {
   "cell_type": "code",
   "execution_count": 1,
   "metadata": {},
   "outputs": [
    {
     "name": "stdin",
     "output_type": "stream",
     "text": [
      "Password:  ·\n"
     ]
    }
   ],
   "source": [
    "# dependencies\n",
    "from sqlalchemy import create_engine\n",
    "import psycopg2\n",
    "import seaborn as sns\n",
    "import numpy as np\n",
    "import pandas as pd\n",
    "import matplotlib.pyplot as plt\n",
    "import getpass\n",
    "\n",
    "# prompt user for password with no echo for PostgreSQL\n",
    "pw = getpass.getpass(\"Password: \")\n",
    "\n",
    "# create connection and cursor\n",
    "connection = psycopg2.connect(f\"dbname=Pewlett_Hackard user = postgres password={pw} host = 127.0.0.1 port = 5432\")\n",
    "cur = connection.cursor()"
   ]
  },
  {
   "cell_type": "markdown",
   "metadata": {},
   "source": [
    "### ERD Pewlett Hackard\n",
    "\n",
    "![title](ERD.png)"
   ]
  },
  {
   "cell_type": "code",
   "execution_count": 2,
   "metadata": {},
   "outputs": [
    {
     "data": {
      "text/plain": [
       "[('Assistant Engineer', Decimal('48493.20')),\n",
       " ('Engineer', Decimal('48539.78')),\n",
       " ('Manager', Decimal('51531.04')),\n",
       " ('Senior Engineer', Decimal('48506.75')),\n",
       " ('Senior Staff', Decimal('58503.29')),\n",
       " ('Staff', Decimal('58465.27')),\n",
       " ('Technique Leader', Decimal('48580.51'))]"
      ]
     },
     "execution_count": 2,
     "metadata": {},
     "output_type": "execute_result"
    }
   ],
   "source": [
    "# SQL query for average salaries by title\n",
    "cur.execute(\"SELECT titles.title, round(AVG(salaries.salary),2) \\\n",
    "            FROM titles \\\n",
    "            INNER JOIN salaries \\\n",
    "            ON titles.emp_no=salaries.emp_no \\\n",
    "            GROUP BY titles.title\")\n",
    "\n",
    "# fetch all rows and store into data\n",
    "rows = cur.fetchall()\n",
    "data = []\n",
    "data = rows\n",
    "data  "
   ]
  },
  {
   "cell_type": "code",
   "execution_count": 7,
   "metadata": {},
   "outputs": [],
   "source": [
    "# spliting data into x and y axis/values\n",
    "x=[]\n",
    "y=[]\n",
    "for d in data:\n",
    "    x.append(d[0])\n",
    "    y.append(d[1])"
   ]
  },
  {
   "cell_type": "code",
   "execution_count": 4,
   "metadata": {},
   "outputs": [
    {
     "data": {
      "image/png": "[encoded data removed]",
      "text/plain": [
       "<Figure size 432x288 with 1 Axes>"
      ]
     },
     "metadata": {
      "needs_background": "light"
     },
     "output_type": "display_data"
    }
   ],
   "source": [
    "# creating bar chart of avg salary by title\n",
    "sns.barplot(x,y)\n",
    "plt.xticks(rotation=45)\n",
    "plt.tight_layout()"
   ]
  },
  {
   "cell_type": "markdown",
   "metadata": {},
   "source": [
    "### What to tell the boss\n",
    "Interestingly I've found that seniority of each position has no effect on average salaries and suspect that this dataset may need further investigation of its sources. All engineers (assistant eng, eng, and senior eng) and staff (senior staff and staff) have equal salaries among their categories. Either the company was a more horizontal structured organization or people were satisfied that regardless of seniority of the position, each role was receiving equal pay."
   ]
  },
  {
   "cell_type": "code",
   "execution_count": 5,
   "metadata": {},
   "outputs": [
    {
     "data": {
      "text/plain": [
       "[(499942,\n",
       "  datetime.date(1963, 1, 10),\n",
       "  'April',\n",
       "  'Foolsday',\n",
       "  'F',\n",
       "  datetime.date(1997, 2, 10))]"
      ]
     },
     "execution_count": 5,
     "metadata": {},
     "output_type": "execute_result"
    }
   ],
   "source": [
    "# my emp_no is 499942\n",
    "cur.execute(\"SELECT * from employees where emp_no=499942\")\n",
    "rows1 = cur.fetchall()\n",
    "data1 = []\n",
    "data1 = rows1\n",
    "data1\n",
    "\n",
    "# haha good one so my manager was the one that faked the dataset... \n",
    "# so do I get fired now or was that last grin my boss gave me, my reward for my findings?"
   ]
  },
  {
   "cell_type": "code",
   "execution_count": 6,
   "metadata": {},
   "outputs": [],
   "source": [
    "# close cursor and connection\n",
    "cur.close()\n",
    "connection.close()\n"
   ]
  },
  {
   "cell_type": "code",
   "execution_count": null,
   "metadata": {},
   "outputs": [],
   "source": []
  }
 ],
 "metadata": {
  "kernelspec": {
   "display_name": "Python 36 (PythonData)",
   "language": "python",
   "name": "pythondata"
  },
  "language_info": {
   "codemirror_mode": {
    "name": "ipython",
    "version": 3
   },
   "file_extension": ".py",
   "mimetype": "text/x-python",
   "name": "python",
   "nbconvert_exporter": "python",
   "pygments_lexer": "ipython3",
   "version": "3.6.8"
  }
 },
 "nbformat": 4,
 "nbformat_minor": 2
}
